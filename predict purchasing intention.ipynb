{
 "cells": [
  {
   "cell_type": "code",
   "execution_count": 1,
   "metadata": {},
   "outputs": [],
   "source": [
    "import numpy as np\n",
    "import pandas as pd\n",
    "import matplotlib.pyplot as plt\n",
    "import seaborn as sns\n",
    "%matplotlib inline\n",
    "import warnings\n",
    "warnings.filterwarnings(\"ignore\")"
   ]
  },
  {
   "cell_type": "markdown",
   "metadata": {},
   "source": [
    "# 資料集介紹\n",
    "這是一個紀錄使用者瀏覽網站以及最後是否會購買的資料集，總共有 18 個 column ，其中 10 個是 numerical attributes, 8 個是 categorical attributes ，以下做個大致的分類與介紹：\n",
    "```\n",
    "類別：\n",
    "1. 不同種類的網頁瀏覽次數：\n",
    "   Administrative, Informational, Product Related\n",
    "   \n",
    "2. 不同種類的網頁瀏覽總時間：\n",
    "   Administrative Duration, Informational Duration, Product Related Duration\n",
    "\n",
    "3. 評估網頁重要性相關的 column:\n",
    "   BounceRates, ExitRates, PageValues\n",
    "   \n",
    "4. 瀏覽網站的期間和特殊節日(情人節、聖誕節)的接近程度：\n",
    "   SpecialDay\n",
    "   \n",
    "5. 類別相關的 column:\n",
    "   Month: 瀏覽網頁是在哪個月份\n",
    "   OperatingSystems: 用什麼作業系統瀏覽\n",
    "   Browser: 用哪種瀏覽器\n",
    "   Region: 瀏覽所在地區\n",
    "   TrafficType: 文中寫不清楚，只能當作某種分類\n",
    "   VisitorType: 瀏覽的人是曾經來過還是第一次來\n",
    "   Weekend: 是否在假日瀏覽\n",
    "\n",
    "6. Target column:\n",
    "   Revenue: 我要預測的 column \n",
    "```\n",
    "\n",
    "# 定義問題\n",
    "因為這個資料集明確的說 \"Revenue\" 可以當作分類的標籤所以我就打算直接用其他欄位來預測 Revenue 的類別"
   ]
  },
  {
   "cell_type": "markdown",
   "metadata": {},
   "source": [
    "# Data preprocession"
   ]
  },
  {
   "cell_type": "code",
   "execution_count": 3,
   "metadata": {},
   "outputs": [],
   "source": [
    "shop = pd.read_csv('online_shoppers_intention.csv')"
   ]
  },
  {
   "cell_type": "code",
   "execution_count": 4,
   "metadata": {},
   "outputs": [
    {
     "data": {
      "text/html": [
       "<div>\n",
       "<style scoped>\n",
       "    .dataframe tbody tr th:only-of-type {\n",
       "        vertical-align: middle;\n",
       "    }\n",
       "\n",
       "    .dataframe tbody tr th {\n",
       "        vertical-align: top;\n",
       "    }\n",
       "\n",
       "    .dataframe thead th {\n",
       "        text-align: right;\n",
       "    }\n",
       "</style>\n",
       "<table border=\"1\" class=\"dataframe\">\n",
       "  <thead>\n",
       "    <tr style=\"text-align: right;\">\n",
       "      <th></th>\n",
       "      <th>Administrative</th>\n",
       "      <th>Administrative_Duration</th>\n",
       "      <th>Informational</th>\n",
       "      <th>Informational_Duration</th>\n",
       "      <th>ProductRelated</th>\n",
       "      <th>ProductRelated_Duration</th>\n",
       "      <th>BounceRates</th>\n",
       "      <th>ExitRates</th>\n",
       "      <th>PageValues</th>\n",
       "      <th>SpecialDay</th>\n",
       "      <th>Month</th>\n",
       "      <th>OperatingSystems</th>\n",
       "      <th>Browser</th>\n",
       "      <th>Region</th>\n",
       "      <th>TrafficType</th>\n",
       "      <th>VisitorType</th>\n",
       "      <th>Weekend</th>\n",
       "      <th>Revenue</th>\n",
       "    </tr>\n",
       "  </thead>\n",
       "  <tbody>\n",
       "    <tr>\n",
       "      <th>0</th>\n",
       "      <td>0</td>\n",
       "      <td>0.0</td>\n",
       "      <td>0</td>\n",
       "      <td>0.0</td>\n",
       "      <td>1</td>\n",
       "      <td>0.000000</td>\n",
       "      <td>0.20</td>\n",
       "      <td>0.20</td>\n",
       "      <td>0.0</td>\n",
       "      <td>0.0</td>\n",
       "      <td>Feb</td>\n",
       "      <td>1</td>\n",
       "      <td>1</td>\n",
       "      <td>1</td>\n",
       "      <td>1</td>\n",
       "      <td>Returning_Visitor</td>\n",
       "      <td>False</td>\n",
       "      <td>False</td>\n",
       "    </tr>\n",
       "    <tr>\n",
       "      <th>1</th>\n",
       "      <td>0</td>\n",
       "      <td>0.0</td>\n",
       "      <td>0</td>\n",
       "      <td>0.0</td>\n",
       "      <td>2</td>\n",
       "      <td>64.000000</td>\n",
       "      <td>0.00</td>\n",
       "      <td>0.10</td>\n",
       "      <td>0.0</td>\n",
       "      <td>0.0</td>\n",
       "      <td>Feb</td>\n",
       "      <td>2</td>\n",
       "      <td>2</td>\n",
       "      <td>1</td>\n",
       "      <td>2</td>\n",
       "      <td>Returning_Visitor</td>\n",
       "      <td>False</td>\n",
       "      <td>False</td>\n",
       "    </tr>\n",
       "    <tr>\n",
       "      <th>2</th>\n",
       "      <td>0</td>\n",
       "      <td>0.0</td>\n",
       "      <td>0</td>\n",
       "      <td>0.0</td>\n",
       "      <td>1</td>\n",
       "      <td>0.000000</td>\n",
       "      <td>0.20</td>\n",
       "      <td>0.20</td>\n",
       "      <td>0.0</td>\n",
       "      <td>0.0</td>\n",
       "      <td>Feb</td>\n",
       "      <td>4</td>\n",
       "      <td>1</td>\n",
       "      <td>9</td>\n",
       "      <td>3</td>\n",
       "      <td>Returning_Visitor</td>\n",
       "      <td>False</td>\n",
       "      <td>False</td>\n",
       "    </tr>\n",
       "    <tr>\n",
       "      <th>3</th>\n",
       "      <td>0</td>\n",
       "      <td>0.0</td>\n",
       "      <td>0</td>\n",
       "      <td>0.0</td>\n",
       "      <td>2</td>\n",
       "      <td>2.666667</td>\n",
       "      <td>0.05</td>\n",
       "      <td>0.14</td>\n",
       "      <td>0.0</td>\n",
       "      <td>0.0</td>\n",
       "      <td>Feb</td>\n",
       "      <td>3</td>\n",
       "      <td>2</td>\n",
       "      <td>2</td>\n",
       "      <td>4</td>\n",
       "      <td>Returning_Visitor</td>\n",
       "      <td>False</td>\n",
       "      <td>False</td>\n",
       "    </tr>\n",
       "    <tr>\n",
       "      <th>4</th>\n",
       "      <td>0</td>\n",
       "      <td>0.0</td>\n",
       "      <td>0</td>\n",
       "      <td>0.0</td>\n",
       "      <td>10</td>\n",
       "      <td>627.500000</td>\n",
       "      <td>0.02</td>\n",
       "      <td>0.05</td>\n",
       "      <td>0.0</td>\n",
       "      <td>0.0</td>\n",
       "      <td>Feb</td>\n",
       "      <td>3</td>\n",
       "      <td>3</td>\n",
       "      <td>1</td>\n",
       "      <td>4</td>\n",
       "      <td>Returning_Visitor</td>\n",
       "      <td>True</td>\n",
       "      <td>False</td>\n",
       "    </tr>\n",
       "  </tbody>\n",
       "</table>\n",
       "</div>"
      ],
      "text/plain": [
       "   Administrative  Administrative_Duration  Informational  \\\n",
       "0               0                      0.0              0   \n",
       "1               0                      0.0              0   \n",
       "2               0                      0.0              0   \n",
       "3               0                      0.0              0   \n",
       "4               0                      0.0              0   \n",
       "\n",
       "   Informational_Duration  ProductRelated  ProductRelated_Duration  \\\n",
       "0                     0.0               1                 0.000000   \n",
       "1                     0.0               2                64.000000   \n",
       "2                     0.0               1                 0.000000   \n",
       "3                     0.0               2                 2.666667   \n",
       "4                     0.0              10               627.500000   \n",
       "\n",
       "   BounceRates  ExitRates  PageValues  SpecialDay Month  OperatingSystems  \\\n",
       "0         0.20       0.20         0.0         0.0   Feb                 1   \n",
       "1         0.00       0.10         0.0         0.0   Feb                 2   \n",
       "2         0.20       0.20         0.0         0.0   Feb                 4   \n",
       "3         0.05       0.14         0.0         0.0   Feb                 3   \n",
       "4         0.02       0.05         0.0         0.0   Feb                 3   \n",
       "\n",
       "   Browser  Region  TrafficType        VisitorType  Weekend  Revenue  \n",
       "0        1       1            1  Returning_Visitor    False    False  \n",
       "1        2       1            2  Returning_Visitor    False    False  \n",
       "2        1       9            3  Returning_Visitor    False    False  \n",
       "3        2       2            4  Returning_Visitor    False    False  \n",
       "4        3       1            4  Returning_Visitor     True    False  "
      ]
     },
     "execution_count": 4,
     "metadata": {},
     "output_type": "execute_result"
    }
   ],
   "source": [
    "shop.head()"
   ]
  },
  {
   "cell_type": "markdown",
   "metadata": {},
   "source": [
    "```\n",
    "觀察一下 Month 欄位發現只有十種月份的資料，因此我用 1-10 來找順序排各個月份\n",
    "```"
   ]
  },
  {
   "cell_type": "code",
   "execution_count": 6,
   "metadata": {},
   "outputs": [
    {
     "data": {
      "text/plain": [
       "array(['Feb', 'Mar', 'May', 'Oct', 'June', 'Jul', 'Aug', 'Nov', 'Sep',\n",
       "       'Dec'], dtype=object)"
      ]
     },
     "execution_count": 6,
     "metadata": {},
     "output_type": "execute_result"
    }
   ],
   "source": [
    "shop['Month'].unique()"
   ]
  },
  {
   "cell_type": "code",
   "execution_count": 12,
   "metadata": {},
   "outputs": [],
   "source": [
    "def mapMonth(month):\n",
    "    return {\n",
    "        'Feb': 1,\n",
    "        'Mar': 2,\n",
    "        'May': 3,\n",
    "        'June': 4,\n",
    "        'Jul': 5,\n",
    "        'Aug': 6,\n",
    "        'Sep': 7,\n",
    "        'Oct': 8,\n",
    "        'Nov': 9,\n",
    "        'Dec': 10\n",
    "    }[month]"
   ]
  },
  {
   "cell_type": "code",
   "execution_count": 16,
   "metadata": {},
   "outputs": [],
   "source": [
    "shop['Month'] = shop['Month'].apply(mapMonth)"
   ]
  },
  {
   "cell_type": "code",
   "execution_count": 18,
   "metadata": {},
   "outputs": [
    {
     "data": {
      "text/html": [
       "<div>\n",
       "<style scoped>\n",
       "    .dataframe tbody tr th:only-of-type {\n",
       "        vertical-align: middle;\n",
       "    }\n",
       "\n",
       "    .dataframe tbody tr th {\n",
       "        vertical-align: top;\n",
       "    }\n",
       "\n",
       "    .dataframe thead th {\n",
       "        text-align: right;\n",
       "    }\n",
       "</style>\n",
       "<table border=\"1\" class=\"dataframe\">\n",
       "  <thead>\n",
       "    <tr style=\"text-align: right;\">\n",
       "      <th></th>\n",
       "      <th>Administrative</th>\n",
       "      <th>Administrative_Duration</th>\n",
       "      <th>Informational</th>\n",
       "      <th>Informational_Duration</th>\n",
       "      <th>ProductRelated</th>\n",
       "      <th>ProductRelated_Duration</th>\n",
       "      <th>BounceRates</th>\n",
       "      <th>ExitRates</th>\n",
       "      <th>PageValues</th>\n",
       "      <th>SpecialDay</th>\n",
       "      <th>Month</th>\n",
       "      <th>OperatingSystems</th>\n",
       "      <th>Browser</th>\n",
       "      <th>Region</th>\n",
       "      <th>TrafficType</th>\n",
       "      <th>VisitorType</th>\n",
       "      <th>Weekend</th>\n",
       "      <th>Revenue</th>\n",
       "    </tr>\n",
       "  </thead>\n",
       "  <tbody>\n",
       "    <tr>\n",
       "      <th>0</th>\n",
       "      <td>0</td>\n",
       "      <td>0.0</td>\n",
       "      <td>0</td>\n",
       "      <td>0.0</td>\n",
       "      <td>1</td>\n",
       "      <td>0.000000</td>\n",
       "      <td>0.20</td>\n",
       "      <td>0.20</td>\n",
       "      <td>0.0</td>\n",
       "      <td>0.0</td>\n",
       "      <td>1</td>\n",
       "      <td>1</td>\n",
       "      <td>1</td>\n",
       "      <td>1</td>\n",
       "      <td>1</td>\n",
       "      <td>Returning_Visitor</td>\n",
       "      <td>False</td>\n",
       "      <td>False</td>\n",
       "    </tr>\n",
       "    <tr>\n",
       "      <th>1</th>\n",
       "      <td>0</td>\n",
       "      <td>0.0</td>\n",
       "      <td>0</td>\n",
       "      <td>0.0</td>\n",
       "      <td>2</td>\n",
       "      <td>64.000000</td>\n",
       "      <td>0.00</td>\n",
       "      <td>0.10</td>\n",
       "      <td>0.0</td>\n",
       "      <td>0.0</td>\n",
       "      <td>1</td>\n",
       "      <td>2</td>\n",
       "      <td>2</td>\n",
       "      <td>1</td>\n",
       "      <td>2</td>\n",
       "      <td>Returning_Visitor</td>\n",
       "      <td>False</td>\n",
       "      <td>False</td>\n",
       "    </tr>\n",
       "    <tr>\n",
       "      <th>2</th>\n",
       "      <td>0</td>\n",
       "      <td>0.0</td>\n",
       "      <td>0</td>\n",
       "      <td>0.0</td>\n",
       "      <td>1</td>\n",
       "      <td>0.000000</td>\n",
       "      <td>0.20</td>\n",
       "      <td>0.20</td>\n",
       "      <td>0.0</td>\n",
       "      <td>0.0</td>\n",
       "      <td>1</td>\n",
       "      <td>4</td>\n",
       "      <td>1</td>\n",
       "      <td>9</td>\n",
       "      <td>3</td>\n",
       "      <td>Returning_Visitor</td>\n",
       "      <td>False</td>\n",
       "      <td>False</td>\n",
       "    </tr>\n",
       "    <tr>\n",
       "      <th>3</th>\n",
       "      <td>0</td>\n",
       "      <td>0.0</td>\n",
       "      <td>0</td>\n",
       "      <td>0.0</td>\n",
       "      <td>2</td>\n",
       "      <td>2.666667</td>\n",
       "      <td>0.05</td>\n",
       "      <td>0.14</td>\n",
       "      <td>0.0</td>\n",
       "      <td>0.0</td>\n",
       "      <td>1</td>\n",
       "      <td>3</td>\n",
       "      <td>2</td>\n",
       "      <td>2</td>\n",
       "      <td>4</td>\n",
       "      <td>Returning_Visitor</td>\n",
       "      <td>False</td>\n",
       "      <td>False</td>\n",
       "    </tr>\n",
       "    <tr>\n",
       "      <th>4</th>\n",
       "      <td>0</td>\n",
       "      <td>0.0</td>\n",
       "      <td>0</td>\n",
       "      <td>0.0</td>\n",
       "      <td>10</td>\n",
       "      <td>627.500000</td>\n",
       "      <td>0.02</td>\n",
       "      <td>0.05</td>\n",
       "      <td>0.0</td>\n",
       "      <td>0.0</td>\n",
       "      <td>1</td>\n",
       "      <td>3</td>\n",
       "      <td>3</td>\n",
       "      <td>1</td>\n",
       "      <td>4</td>\n",
       "      <td>Returning_Visitor</td>\n",
       "      <td>True</td>\n",
       "      <td>False</td>\n",
       "    </tr>\n",
       "  </tbody>\n",
       "</table>\n",
       "</div>"
      ],
      "text/plain": [
       "   Administrative  Administrative_Duration  Informational  \\\n",
       "0               0                      0.0              0   \n",
       "1               0                      0.0              0   \n",
       "2               0                      0.0              0   \n",
       "3               0                      0.0              0   \n",
       "4               0                      0.0              0   \n",
       "\n",
       "   Informational_Duration  ProductRelated  ProductRelated_Duration  \\\n",
       "0                     0.0               1                 0.000000   \n",
       "1                     0.0               2                64.000000   \n",
       "2                     0.0               1                 0.000000   \n",
       "3                     0.0               2                 2.666667   \n",
       "4                     0.0              10               627.500000   \n",
       "\n",
       "   BounceRates  ExitRates  PageValues  SpecialDay  Month  OperatingSystems  \\\n",
       "0         0.20       0.20         0.0         0.0      1                 1   \n",
       "1         0.00       0.10         0.0         0.0      1                 2   \n",
       "2         0.20       0.20         0.0         0.0      1                 4   \n",
       "3         0.05       0.14         0.0         0.0      1                 3   \n",
       "4         0.02       0.05         0.0         0.0      1                 3   \n",
       "\n",
       "   Browser  Region  TrafficType        VisitorType  Weekend  Revenue  \n",
       "0        1       1            1  Returning_Visitor    False    False  \n",
       "1        2       1            2  Returning_Visitor    False    False  \n",
       "2        1       9            3  Returning_Visitor    False    False  \n",
       "3        2       2            4  Returning_Visitor    False    False  \n",
       "4        3       1            4  Returning_Visitor     True    False  "
      ]
     },
     "execution_count": 18,
     "metadata": {},
     "output_type": "execute_result"
    }
   ],
   "source": [
    "shop.head()"
   ]
  },
  {
   "cell_type": "markdown",
   "metadata": {},
   "source": [
    "```\n",
    "接者來處理一下 VistorType 欄位\n",
    "發現竟然有三種類別，於是就用 map 的方式幫他們分類\n",
    "```"
   ]
  },
  {
   "cell_type": "code",
   "execution_count": 19,
   "metadata": {},
   "outputs": [
    {
     "data": {
      "text/plain": [
       "array(['Returning_Visitor', 'New_Visitor', 'Other'], dtype=object)"
      ]
     },
     "execution_count": 19,
     "metadata": {},
     "output_type": "execute_result"
    }
   ],
   "source": [
    "shop['VisitorType'].unique()"
   ]
  },
  {
   "cell_type": "code",
   "execution_count": 24,
   "metadata": {},
   "outputs": [],
   "source": [
    "vistor = {'Returning_Visitor': 1, 'New_Visitor':2, 'Other':3}"
   ]
  },
  {
   "cell_type": "code",
   "execution_count": 26,
   "metadata": {},
   "outputs": [],
   "source": [
    "shop['VisitorType'] = shop['VisitorType'].map(vistor)"
   ]
  },
  {
   "cell_type": "markdown",
   "metadata": {},
   "source": [
    "```\n",
    "再來處理一下 Weekend 和 Revenue 欄位\n",
    "```"
   ]
  },
  {
   "cell_type": "code",
   "execution_count": 30,
   "metadata": {},
   "outputs": [],
   "source": [
    "true_false = {True: 1, False: 0}"
   ]
  },
  {
   "cell_type": "code",
   "execution_count": 33,
   "metadata": {},
   "outputs": [],
   "source": [
    "shop['Weekend'] = shop['Weekend'].map(true_false)\n",
    "shop['Revenue'] = shop['Revenue'].map(true_false)"
   ]
  },
  {
   "cell_type": "markdown",
   "metadata": {},
   "source": [
    "```\n",
    "把 dataframe 變小一點\n",
    "```"
   ]
  },
  {
   "cell_type": "code",
   "execution_count": 34,
   "metadata": {},
   "outputs": [
    {
     "name": "stdout",
     "output_type": "stream",
     "text": [
      "<class 'pandas.core.frame.DataFrame'>\n",
      "RangeIndex: 12330 entries, 0 to 12329\n",
      "Data columns (total 18 columns):\n",
      "Administrative             12330 non-null int64\n",
      "Administrative_Duration    12330 non-null float64\n",
      "Informational              12330 non-null int64\n",
      "Informational_Duration     12330 non-null float64\n",
      "ProductRelated             12330 non-null int64\n",
      "ProductRelated_Duration    12330 non-null float64\n",
      "BounceRates                12330 non-null float64\n",
      "ExitRates                  12330 non-null float64\n",
      "PageValues                 12330 non-null float64\n",
      "SpecialDay                 12330 non-null float64\n",
      "Month                      12330 non-null int64\n",
      "OperatingSystems           12330 non-null int64\n",
      "Browser                    12330 non-null int64\n",
      "Region                     12330 non-null int64\n",
      "TrafficType                12330 non-null int64\n",
      "VisitorType                12330 non-null int64\n",
      "Weekend                    12330 non-null int64\n",
      "Revenue                    12330 non-null int64\n",
      "dtypes: float64(7), int64(11)\n",
      "memory usage: 1.7 MB\n"
     ]
    }
   ],
   "source": [
    "shop.info()"
   ]
  },
  {
   "cell_type": "code",
   "execution_count": 35,
   "metadata": {},
   "outputs": [],
   "source": [
    "shop['Administrative'] = shop['Administrative'].astype(np.int8)\n",
    "shop['Informational'] = shop['Informational'].astype(np.int8)\n",
    "shop['ProductRelated'] = shop['ProductRelated'].astype(np.int8)\n",
    "shop['Month'] = shop['Month'].astype(np.int8)\n",
    "shop['OperatingSystems'] = shop['OperatingSystems'].astype(np.int8)\n",
    "shop['Browser'] = shop['Browser'].astype(np.int8)\n",
    "shop['Region'] = shop['Region'].astype(np.int8)\n",
    "shop['TrafficType'] = shop['TrafficType'].astype(np.int8)\n",
    "shop['VisitorType'] = shop['VisitorType'].astype(np.int8)\n",
    "shop['Weekend'] = shop['Weekend'].astype(np.int8)\n",
    "shop['Revenue'] = shop['Revenue'].astype(np.int8)"
   ]
  },
  {
   "cell_type": "code",
   "execution_count": 36,
   "metadata": {},
   "outputs": [
    {
     "name": "stdout",
     "output_type": "stream",
     "text": [
      "<class 'pandas.core.frame.DataFrame'>\n",
      "RangeIndex: 12330 entries, 0 to 12329\n",
      "Data columns (total 18 columns):\n",
      "Administrative             12330 non-null int8\n",
      "Administrative_Duration    12330 non-null float64\n",
      "Informational              12330 non-null int8\n",
      "Informational_Duration     12330 non-null float64\n",
      "ProductRelated             12330 non-null int8\n",
      "ProductRelated_Duration    12330 non-null float64\n",
      "BounceRates                12330 non-null float64\n",
      "ExitRates                  12330 non-null float64\n",
      "PageValues                 12330 non-null float64\n",
      "SpecialDay                 12330 non-null float64\n",
      "Month                      12330 non-null int8\n",
      "OperatingSystems           12330 non-null int8\n",
      "Browser                    12330 non-null int8\n",
      "Region                     12330 non-null int8\n",
      "TrafficType                12330 non-null int8\n",
      "VisitorType                12330 non-null int8\n",
      "Weekend                    12330 non-null int8\n",
      "Revenue                    12330 non-null int8\n",
      "dtypes: float64(7), int8(11)\n",
      "memory usage: 806.8 KB\n"
     ]
    }
   ],
   "source": [
    "shop.info()"
   ]
  },
  {
   "cell_type": "markdown",
   "metadata": {},
   "source": [
    "```\n",
    "先把處理過的資料存起來\n",
    "```"
   ]
  },
  {
   "cell_type": "code",
   "execution_count": null,
   "metadata": {},
   "outputs": [],
   "source": [
    "shop.to_csv('Shop.csv')"
   ]
  },
  {
   "cell_type": "markdown",
   "metadata": {},
   "source": [
    "# 先來看看 Baseline 如何\n",
    "- Logistic regression"
   ]
  },
  {
   "cell_type": "code",
   "execution_count": 2,
   "metadata": {},
   "outputs": [],
   "source": [
    "df_ = pd.read_csv('Shop.csv',index_col=0)"
   ]
  },
  {
   "cell_type": "code",
   "execution_count": 3,
   "metadata": {},
   "outputs": [],
   "source": [
    "from sklearn.model_selection import train_test_split\n",
    "from sklearn.linear_model import LogisticRegression\n",
    "from sklearn.metrics import confusion_matrix"
   ]
  },
  {
   "cell_type": "code",
   "execution_count": 4,
   "metadata": {},
   "outputs": [],
   "source": [
    "X_train, X_test, y_train, y_test = train_test_split(df_.drop(['Revenue'],axis=1), \n",
    "                                                    df_['Revenue'], test_size=0.30)\n",
    "logmodel = LogisticRegression(random_state=0, class_weight='balanced')\n",
    "logmodel.fit(X_train,y_train)\n",
    "predictions = logmodel.predict(X_test)"
   ]
  },
  {
   "cell_type": "code",
   "execution_count": 5,
   "metadata": {},
   "outputs": [],
   "source": [
    "from sklearn.metrics import classification_report\n",
    "from sklearn import metrics"
   ]
  },
  {
   "cell_type": "markdown",
   "metadata": {},
   "source": [
    "- 可以看出在判斷結果為 0 的情況下時，各方面結果都還不錯\n",
    "- 但在判斷結果為 0 時會把很多結果為 1 的結果也當成 0  "
   ]
  },
  {
   "cell_type": "code",
   "execution_count": 6,
   "metadata": {},
   "outputs": [
    {
     "name": "stdout",
     "output_type": "stream",
     "text": [
      "              precision    recall  f1-score   support\n",
      "\n",
      "           0       0.95      0.90      0.92      3139\n",
      "           1       0.56      0.72      0.63       560\n",
      "\n",
      "   micro avg       0.87      0.87      0.87      3699\n",
      "   macro avg       0.75      0.81      0.78      3699\n",
      "weighted avg       0.89      0.87      0.88      3699\n",
      "\n"
     ]
    }
   ],
   "source": [
    "print(classification_report(y_test,predictions))"
   ]
  },
  {
   "cell_type": "code",
   "execution_count": 7,
   "metadata": {},
   "outputs": [
    {
     "name": "stdout",
     "output_type": "stream",
     "text": [
      "Confusion matrix:\n",
      " [[2819  320]\n",
      " [ 156  404]]\n"
     ]
    },
    {
     "data": {
      "text/plain": [
       "Text(0, 0.5, 'Expected')"
      ]
     },
     "execution_count": 7,
     "metadata": {},
     "output_type": "execute_result"
    },
    {
     "data": {
      "image/png": "[encoded data removed]",
      "text/plain": [
       "<Figure size 432x288 with 2 Axes>"
      ]
     },
     "metadata": {
      "needs_background": "light"
     },
     "output_type": "display_data"
    }
   ],
   "source": [
    "conf_mat = confusion_matrix(y_true=y_test, y_pred=predictions)\n",
    "print('Confusion matrix:\\n', conf_mat)\n",
    "\n",
    "labels = ['Class 0', 'Class 1']\n",
    "fig = plt.figure()\n",
    "ax = fig.add_subplot(111)\n",
    "cax = ax.matshow(conf_mat, cmap=plt.cm.Blues)\n",
    "fig.colorbar(cax)\n",
    "ax.set_xticklabels([''] + labels)\n",
    "ax.set_yticklabels([''] + labels)\n",
    "plt.xlabel('Predicted')\n",
    "plt.ylabel('Expected')"
   ]
  },
  {
   "cell_type": "markdown",
   "metadata": {},
   "source": [
    "- Random Forest"
   ]
  },
  {
   "cell_type": "code",
   "execution_count": 8,
   "metadata": {},
   "outputs": [
    {
     "data": {
      "text/plain": [
       "RandomForestClassifier(bootstrap=True, class_weight=None, criterion='gini',\n",
       "            max_depth=None, max_features='auto', max_leaf_nodes=None,\n",
       "            min_impurity_decrease=0.0, min_impurity_split=None,\n",
       "            min_samples_leaf=1, min_samples_split=2,\n",
       "            min_weight_fraction_leaf=0.0, n_estimators=1000, n_jobs=None,\n",
       "            oob_score=False, random_state=None, verbose=0,\n",
       "            warm_start=False)"
      ]
     },
     "execution_count": 8,
     "metadata": {},
     "output_type": "execute_result"
    }
   ],
   "source": [
    "from sklearn.ensemble import RandomForestClassifier\n",
    "rfc = RandomForestClassifier(n_estimators=1000)\n",
    "rfc.fit(X_train, y_train)"
   ]
  },
  {
   "cell_type": "code",
   "execution_count": 9,
   "metadata": {},
   "outputs": [],
   "source": [
    "predTree = rfc.predict(X_test)"
   ]
  },
  {
   "cell_type": "code",
   "execution_count": 10,
   "metadata": {},
   "outputs": [
    {
     "name": "stdout",
     "output_type": "stream",
     "text": [
      "              precision    recall  f1-score   support\n",
      "\n",
      "           0       0.93      0.96      0.94      3139\n",
      "           1       0.73      0.57      0.64       560\n",
      "\n",
      "   micro avg       0.90      0.90      0.90      3699\n",
      "   macro avg       0.83      0.76      0.79      3699\n",
      "weighted avg       0.90      0.90      0.90      3699\n",
      "\n"
     ]
    }
   ],
   "source": [
    "print(classification_report(y_test,predTree))"
   ]
  },
  {
   "cell_type": "code",
   "execution_count": 11,
   "metadata": {},
   "outputs": [
    {
     "name": "stdout",
     "output_type": "stream",
     "text": [
      "Confusion matrix:\n",
      " [[3019  120]\n",
      " [ 242  318]]\n"
     ]
    },
    {
     "data": {
      "text/plain": [
       "Text(0, 0.5, 'Expected')"
      ]
     },
     "execution_count": 11,
     "metadata": {},
     "output_type": "execute_result"
    },
    {
     "data": {
      "image/png": "[encoded data removed]",
      "text/plain": [
       "<Figure size 432x288 with 2 Axes>"
      ]
     },
     "metadata": {
      "needs_background": "light"
     },
     "output_type": "display_data"
    }
   ],
   "source": [
    "conf_mat = confusion_matrix(y_true=y_test, y_pred=predTree)\n",
    "print('Confusion matrix:\\n', conf_mat)\n",
    "\n",
    "labels = ['Class 0', 'Class 1']\n",
    "fig = plt.figure()\n",
    "ax = fig.add_subplot(111)\n",
    "cax = ax.matshow(conf_mat, cmap=plt.cm.Blues)\n",
    "fig.colorbar(cax)\n",
    "ax.set_xticklabels([''] + labels)\n",
    "ax.set_yticklabels([''] + labels)\n",
    "plt.xlabel('Predicted')\n",
    "plt.ylabel('Expected')"
   ]
  },
  {
   "cell_type": "markdown",
   "metadata": {},
   "source": [
    "比較兩種 model 發現 logistic regression 在預測 class 1 的表現比較好，而 randomforest 在預測 class 0 的表現比較好"
   ]
  },
  {
   "cell_type": "markdown",
   "metadata": {},
   "source": [
    "# 改進\n",
    "- 用 Resample 來處理類別數量不平均的問題\n",
    "- ~~新增 feature column~~ (後來仔細看 dataset 真的想不太到可以新增什麼，因為如果要新增一些前幾個月的結果當作 feature 最後勢必要把前幾個月的 row drop 掉，不然會有 NULL value，但這個 dataset 的資料量有點少所以覺得這不是個好方法)\n",
    "- model ensemble "
   ]
  },
  {
   "cell_type": "code",
   "execution_count": 24,
   "metadata": {},
   "outputs": [
    {
     "data": {
      "text/plain": [
       "<matplotlib.axes._subplots.AxesSubplot at 0x12abcddd8>"
      ]
     },
     "execution_count": 24,
     "metadata": {},
     "output_type": "execute_result"
    },
    {
     "data": {
      "image/png": "[encoded data removed]",
      "text/plain": [
       "<Figure size 432x288 with 2 Axes>"
      ]
     },
     "metadata": {
      "needs_background": "light"
     },
     "output_type": "display_data"
    }
   ],
   "source": [
    "sns.heatmap(df_.corr())"
   ]
  },
  {
   "cell_type": "code",
   "execution_count": 19,
   "metadata": {},
   "outputs": [
    {
     "data": {
      "text/html": [
       "<div>\n",
       "<style scoped>\n",
       "    .dataframe tbody tr th:only-of-type {\n",
       "        vertical-align: middle;\n",
       "    }\n",
       "\n",
       "    .dataframe tbody tr th {\n",
       "        vertical-align: top;\n",
       "    }\n",
       "\n",
       "    .dataframe thead th {\n",
       "        text-align: right;\n",
       "    }\n",
       "</style>\n",
       "<table border=\"1\" class=\"dataframe\">\n",
       "  <thead>\n",
       "    <tr style=\"text-align: right;\">\n",
       "      <th></th>\n",
       "      <th>Administrative</th>\n",
       "      <th>Administrative_Duration</th>\n",
       "      <th>Informational</th>\n",
       "      <th>Informational_Duration</th>\n",
       "      <th>ProductRelated</th>\n",
       "      <th>ProductRelated_Duration</th>\n",
       "      <th>BounceRates</th>\n",
       "      <th>ExitRates</th>\n",
       "      <th>PageValues</th>\n",
       "      <th>SpecialDay</th>\n",
       "      <th>Month</th>\n",
       "      <th>OperatingSystems</th>\n",
       "      <th>Browser</th>\n",
       "      <th>Region</th>\n",
       "      <th>TrafficType</th>\n",
       "      <th>VisitorType</th>\n",
       "      <th>Weekend</th>\n",
       "      <th>Revenue</th>\n",
       "    </tr>\n",
       "  </thead>\n",
       "  <tbody>\n",
       "    <tr>\n",
       "      <th>0</th>\n",
       "      <td>0</td>\n",
       "      <td>0.0</td>\n",
       "      <td>0</td>\n",
       "      <td>0.0</td>\n",
       "      <td>1</td>\n",
       "      <td>0.000000</td>\n",
       "      <td>0.20</td>\n",
       "      <td>0.20</td>\n",
       "      <td>0.0</td>\n",
       "      <td>0.0</td>\n",
       "      <td>1</td>\n",
       "      <td>1</td>\n",
       "      <td>1</td>\n",
       "      <td>1</td>\n",
       "      <td>1</td>\n",
       "      <td>1</td>\n",
       "      <td>0</td>\n",
       "      <td>0</td>\n",
       "    </tr>\n",
       "    <tr>\n",
       "      <th>1</th>\n",
       "      <td>0</td>\n",
       "      <td>0.0</td>\n",
       "      <td>0</td>\n",
       "      <td>0.0</td>\n",
       "      <td>2</td>\n",
       "      <td>64.000000</td>\n",
       "      <td>0.00</td>\n",
       "      <td>0.10</td>\n",
       "      <td>0.0</td>\n",
       "      <td>0.0</td>\n",
       "      <td>1</td>\n",
       "      <td>2</td>\n",
       "      <td>2</td>\n",
       "      <td>1</td>\n",
       "      <td>2</td>\n",
       "      <td>1</td>\n",
       "      <td>0</td>\n",
       "      <td>0</td>\n",
       "    </tr>\n",
       "    <tr>\n",
       "      <th>2</th>\n",
       "      <td>0</td>\n",
       "      <td>0.0</td>\n",
       "      <td>0</td>\n",
       "      <td>0.0</td>\n",
       "      <td>1</td>\n",
       "      <td>0.000000</td>\n",
       "      <td>0.20</td>\n",
       "      <td>0.20</td>\n",
       "      <td>0.0</td>\n",
       "      <td>0.0</td>\n",
       "      <td>1</td>\n",
       "      <td>4</td>\n",
       "      <td>1</td>\n",
       "      <td>9</td>\n",
       "      <td>3</td>\n",
       "      <td>1</td>\n",
       "      <td>0</td>\n",
       "      <td>0</td>\n",
       "    </tr>\n",
       "    <tr>\n",
       "      <th>3</th>\n",
       "      <td>0</td>\n",
       "      <td>0.0</td>\n",
       "      <td>0</td>\n",
       "      <td>0.0</td>\n",
       "      <td>2</td>\n",
       "      <td>2.666667</td>\n",
       "      <td>0.05</td>\n",
       "      <td>0.14</td>\n",
       "      <td>0.0</td>\n",
       "      <td>0.0</td>\n",
       "      <td>1</td>\n",
       "      <td>3</td>\n",
       "      <td>2</td>\n",
       "      <td>2</td>\n",
       "      <td>4</td>\n",
       "      <td>1</td>\n",
       "      <td>0</td>\n",
       "      <td>0</td>\n",
       "    </tr>\n",
       "    <tr>\n",
       "      <th>4</th>\n",
       "      <td>0</td>\n",
       "      <td>0.0</td>\n",
       "      <td>0</td>\n",
       "      <td>0.0</td>\n",
       "      <td>10</td>\n",
       "      <td>627.500000</td>\n",
       "      <td>0.02</td>\n",
       "      <td>0.05</td>\n",
       "      <td>0.0</td>\n",
       "      <td>0.0</td>\n",
       "      <td>1</td>\n",
       "      <td>3</td>\n",
       "      <td>3</td>\n",
       "      <td>1</td>\n",
       "      <td>4</td>\n",
       "      <td>1</td>\n",
       "      <td>1</td>\n",
       "      <td>0</td>\n",
       "    </tr>\n",
       "  </tbody>\n",
       "</table>\n",
       "</div>"
      ],
      "text/plain": [
       "   Administrative  Administrative_Duration  Informational  \\\n",
       "0               0                      0.0              0   \n",
       "1               0                      0.0              0   \n",
       "2               0                      0.0              0   \n",
       "3               0                      0.0              0   \n",
       "4               0                      0.0              0   \n",
       "\n",
       "   Informational_Duration  ProductRelated  ProductRelated_Duration  \\\n",
       "0                     0.0               1                 0.000000   \n",
       "1                     0.0               2                64.000000   \n",
       "2                     0.0               1                 0.000000   \n",
       "3                     0.0               2                 2.666667   \n",
       "4                     0.0              10               627.500000   \n",
       "\n",
       "   BounceRates  ExitRates  PageValues  SpecialDay  Month  OperatingSystems  \\\n",
       "0         0.20       0.20         0.0         0.0      1                 1   \n",
       "1         0.00       0.10         0.0         0.0      1                 2   \n",
       "2         0.20       0.20         0.0         0.0      1                 4   \n",
       "3         0.05       0.14         0.0         0.0      1                 3   \n",
       "4         0.02       0.05         0.0         0.0      1                 3   \n",
       "\n",
       "   Browser  Region  TrafficType  VisitorType  Weekend  Revenue  \n",
       "0        1       1            1            1        0        0  \n",
       "1        2       1            2            1        0        0  \n",
       "2        1       9            3            1        0        0  \n",
       "3        2       2            4            1        0        0  \n",
       "4        3       1            4            1        1        0  "
      ]
     },
     "execution_count": 19,
     "metadata": {},
     "output_type": "execute_result"
    }
   ],
   "source": [
    "df_.head()"
   ]
  },
  {
   "cell_type": "code",
   "execution_count": 13,
   "metadata": {},
   "outputs": [
    {
     "name": "stdout",
     "output_type": "stream",
     "text": [
      "Class 0: 10422\n",
      "Class 1: 1908\n"
     ]
    },
    {
     "data": {
      "image/png": "[encoded data removed]",
      "text/plain": [
       "<Figure size 432x288 with 1 Axes>"
      ]
     },
     "metadata": {
      "needs_background": "light"
     },
     "output_type": "display_data"
    }
   ],
   "source": [
    "target_count = df_['Revenue'].value_counts()\n",
    "sns.countplot(x=\"Revenue\", data=df_)\n",
    "print(\"Class 0:\",target_count[0])\n",
    "print(\"Class 1:\",target_count[1])"
   ]
  },
  {
   "cell_type": "code",
   "execution_count": 14,
   "metadata": {},
   "outputs": [],
   "source": [
    "count_class_0, count_class_1 = df_['Revenue'].value_counts()\n",
    "df_class_0 = df_[df_['Revenue'] == 0]\n",
    "df_class_1 = df_[df_['Revenue'] == 1]"
   ]
  },
  {
   "cell_type": "markdown",
   "metadata": {},
   "source": [
    "## Random under-sampling\n",
    "- 讓 class 資料比較多的資料變少\n",
    "- 看預測經過 under-sampling 所 train 出來的 model 對於原本的 testing data 表現如何"
   ]
  },
  {
   "cell_type": "code",
   "execution_count": 111,
   "metadata": {},
   "outputs": [
    {
     "name": "stdout",
     "output_type": "stream",
     "text": [
      "Class 0: 1348\n",
      "Class 1: 1348\n"
     ]
    },
    {
     "data": {
      "image/png": "[encoded data removed]",
      "text/plain": [
       "<Figure size 432x288 with 1 Axes>"
      ]
     },
     "metadata": {
      "needs_background": "light"
     },
     "output_type": "display_data"
    }
   ],
   "source": [
    "train = pd.merge(X_train, y_train, left_index=True, right_index=True)\n",
    "class_0, class_1 = train['Revenue'].value_counts()\n",
    "train_class_0 = train[train['Revenue'] == 0]\n",
    "train_class_1 = train[train['Revenue'] == 1]\n",
    "train_class_0_under = train_class_0.sample(class_1, replace=True)\n",
    "train_test_under = pd.concat([train_class_1, train_class_0_under], axis=0)\n",
    "sns.countplot(x='Revenue', data=train_test_under)\n",
    "print('Class 0:', len(train_test_under[train_test_under['Revenue'] == 0]))\n",
    "print('Class 1:', len(train_test_under[train_test_under['Revenue'] == 1]))"
   ]
  },
  {
   "cell_type": "code",
   "execution_count": 112,
   "metadata": {},
   "outputs": [],
   "source": [
    "X_train_new = train_test_under.drop(['Revenue'],axis=1)\n",
    "y_train_new = train_test_under['Revenue']"
   ]
  },
  {
   "cell_type": "code",
   "execution_count": 113,
   "metadata": {},
   "outputs": [
    {
     "data": {
      "text/plain": [
       "LogisticRegression(C=1.0, class_weight=None, dual=False, fit_intercept=True,\n",
       "          intercept_scaling=1, max_iter=100, multi_class='warn',\n",
       "          n_jobs=None, penalty='l2', random_state=None, solver='warn',\n",
       "          tol=0.0001, verbose=0, warm_start=False)"
      ]
     },
     "execution_count": 113,
     "metadata": {},
     "output_type": "execute_result"
    }
   ],
   "source": [
    "log = LogisticRegression()\n",
    "log.fit(X_train_new,y_train_new)"
   ]
  },
  {
   "cell_type": "markdown",
   "metadata": {},
   "source": [
    "## under-sampling 小結\n",
    "- 沒進步\n",
    "- model 相比原本的更傾向於 predict 1，會這樣可能是因為丟掉太多 class 0 的資料造成 information loss"
   ]
  },
  {
   "cell_type": "code",
   "execution_count": 115,
   "metadata": {},
   "outputs": [
    {
     "name": "stdout",
     "output_type": "stream",
     "text": [
      "              precision    recall  f1-score   support\n",
      "\n",
      "           0       0.95      0.89      0.92      3139\n",
      "           1       0.55      0.72      0.62       560\n",
      "\n",
      "   micro avg       0.87      0.87      0.87      3699\n",
      "   macro avg       0.75      0.81      0.77      3699\n",
      "weighted avg       0.89      0.87      0.87      3699\n",
      "\n",
      "Confusion matrix:\n",
      " [[2809  330]\n",
      " [ 158  402]]\n"
     ]
    },
    {
     "data": {
      "text/plain": [
       "Text(0, 0.5, 'Expected')"
      ]
     },
     "execution_count": 115,
     "metadata": {},
     "output_type": "execute_result"
    },
    {
     "data": {
      "image/png": "[encoded data removed]",
      "text/plain": [
       "<Figure size 432x288 with 2 Axes>"
      ]
     },
     "metadata": {
      "needs_background": "light"
     },
     "output_type": "display_data"
    }
   ],
   "source": [
    "pred_ = log.predict(X_test)\n",
    "print(classification_report(y_test,pred_))\n",
    "conf_mat = confusion_matrix(y_true=y_test, y_pred=pred_)\n",
    "print('Confusion matrix:\\n', conf_mat)\n",
    "labels = ['Class 0', 'Class 1']\n",
    "fig = plt.figure()\n",
    "ax = fig.add_subplot(111)\n",
    "cax = ax.matshow(conf_mat, cmap=plt.cm.Blues)\n",
    "fig.colorbar(cax)\n",
    "ax.set_xticklabels([''] + labels)\n",
    "ax.set_yticklabels([''] + labels)\n",
    "plt.xlabel('Predicted')\n",
    "plt.ylabel('Expected')"
   ]
  },
  {
   "cell_type": "code",
   "execution_count": 116,
   "metadata": {},
   "outputs": [
    {
     "name": "stdout",
     "output_type": "stream",
     "text": [
      "              precision    recall  f1-score   support\n",
      "\n",
      "           0       0.97      0.87      0.91      3139\n",
      "           1       0.52      0.83      0.64       560\n",
      "\n",
      "   micro avg       0.86      0.86      0.86      3699\n",
      "   macro avg       0.75      0.85      0.78      3699\n",
      "weighted avg       0.90      0.86      0.87      3699\n",
      "\n",
      "Confusion matrix:\n",
      " [[2717  422]\n",
      " [  95  465]]\n"
     ]
    },
    {
     "data": {
      "text/plain": [
       "Text(0, 0.5, 'Expected')"
      ]
     },
     "execution_count": 116,
     "metadata": {},
     "output_type": "execute_result"
    },
    {
     "data": {
      "image/png": "[encoded data removed]",
      "text/plain": [
       "<Figure size 432x288 with 2 Axes>"
      ]
     },
     "metadata": {
      "needs_background": "light"
     },
     "output_type": "display_data"
    }
   ],
   "source": [
    "rf = RandomForestClassifier(n_estimators=1000)\n",
    "rf.fit(X_train_new, y_train_new)\n",
    "predTree_under = rf.predict(X_test)\n",
    "print(classification_report(y_test,predTree_under))\n",
    "conf_mat = confusion_matrix(y_true=y_test, y_pred=predTree_under)\n",
    "print('Confusion matrix:\\n', conf_mat)\n",
    "labels = ['Class 0', 'Class 1']\n",
    "fig = plt.figure()\n",
    "ax = fig.add_subplot(111)\n",
    "cax = ax.matshow(conf_mat, cmap=plt.cm.Blues)\n",
    "fig.colorbar(cax)\n",
    "ax.set_xticklabels([''] + labels)\n",
    "ax.set_yticklabels([''] + labels)\n",
    "plt.xlabel('Predicted')\n",
    "plt.ylabel('Expected')"
   ]
  },
  {
   "cell_type": "markdown",
   "metadata": {},
   "source": [
    "## Random over-sampling\n",
    "- 複製很多筆 class 1 的資料\n",
    "- 一開始傻傻的先複製然後才分 test & train 雖然做出來的結果意義不大但還是有整理出一些結論"
   ]
  },
  {
   "cell_type": "code",
   "execution_count": 24,
   "metadata": {},
   "outputs": [
    {
     "name": "stdout",
     "output_type": "stream",
     "text": [
      "Class 0: 10422\n",
      "Class 1: 10422\n"
     ]
    },
    {
     "data": {
      "image/png": "[encoded data removed]",
      "text/plain": [
       "<Figure size 432x288 with 1 Axes>"
      ]
     },
     "metadata": {
      "needs_background": "light"
     },
     "output_type": "display_data"
    }
   ],
   "source": [
    "df_class_1_over = df_class_1.sample(count_class_0, replace=True)\n",
    "df_test_over = pd.concat([df_class_0, df_class_1_over], axis=0)\n",
    "sns.countplot(x='Revenue', data=df_test_over)\n",
    "print('Class 0:', len(df_test_over[df_test_over['Revenue'] == 0]))\n",
    "print('Class 1:', len(df_test_over[df_test_over['Revenue'] == 1]))"
   ]
  },
  {
   "cell_type": "code",
   "execution_count": 26,
   "metadata": {},
   "outputs": [],
   "source": [
    "X_train3, X_test3, y_train3, y_test3 = train_test_split(df_test_over.drop(['Revenue'],axis=1), \n",
    "                                                    df_test_over['Revenue'], test_size=0.30)"
   ]
  },
  {
   "cell_type": "code",
   "execution_count": 29,
   "metadata": {},
   "outputs": [
    {
     "data": {
      "text/plain": [
       "LogisticRegression(C=1.0, class_weight=None, dual=False, fit_intercept=True,\n",
       "          intercept_scaling=1, max_iter=100, multi_class='warn',\n",
       "          n_jobs=None, penalty='l2', random_state=None, solver='warn',\n",
       "          tol=0.0001, verbose=0, warm_start=False)"
      ]
     },
     "execution_count": 29,
     "metadata": {},
     "output_type": "execute_result"
    }
   ],
   "source": [
    "log_over = LogisticRegression()\n",
    "log_over.fit(X_train3,y_train3)"
   ]
  },
  {
   "cell_type": "code",
   "execution_count": 34,
   "metadata": {},
   "outputs": [
    {
     "name": "stdout",
     "output_type": "stream",
     "text": [
      "              precision    recall  f1-score   support\n",
      "\n",
      "           0       0.95      0.90      0.92      3139\n",
      "           1       0.56      0.71      0.62       560\n",
      "\n",
      "   micro avg       0.87      0.87      0.87      3699\n",
      "   macro avg       0.75      0.80      0.77      3699\n",
      "weighted avg       0.89      0.87      0.88      3699\n",
      "\n",
      "Confusion matrix:\n",
      " [[2826  313]\n",
      " [ 164  396]]\n"
     ]
    },
    {
     "data": {
      "text/plain": [
       "Text(0, 0.5, 'Expected')"
      ]
     },
     "execution_count": 34,
     "metadata": {},
     "output_type": "execute_result"
    },
    {
     "data": {
      "image/png": "[encoded data removed]",
      "text/plain": [
       "<Figure size 432x288 with 2 Axes>"
      ]
     },
     "metadata": {
      "needs_background": "light"
     },
     "output_type": "display_data"
    }
   ],
   "source": [
    "pred_over = log_over.predict(X_test)\n",
    "print(classification_report(y_test,pred_over))\n",
    "conf_mat = confusion_matrix(y_true=y_test, y_pred=pred_over)\n",
    "print('Confusion matrix:\\n', conf_mat)\n",
    "\n",
    "labels = ['Class 0', 'Class 1']\n",
    "fig = plt.figure()\n",
    "ax = fig.add_subplot(111)\n",
    "cax = ax.matshow(conf_mat, cmap=plt.cm.Blues)\n",
    "fig.colorbar(cax)\n",
    "ax.set_xticklabels([''] + labels)\n",
    "ax.set_yticklabels([''] + labels)\n",
    "plt.xlabel('Predicted')\n",
    "plt.ylabel('Expected')"
   ]
  },
  {
   "cell_type": "markdown",
   "metadata": {},
   "source": [
    "**沒有限制樹的深度**"
   ]
  },
  {
   "cell_type": "code",
   "execution_count": 33,
   "metadata": {},
   "outputs": [
    {
     "name": "stdout",
     "output_type": "stream",
     "text": [
      "              precision    recall  f1-score   support\n",
      "\n",
      "           0       1.00      0.98      0.99      3139\n",
      "           1       0.89      0.99      0.94       560\n",
      "\n",
      "   micro avg       0.98      0.98      0.98      3699\n",
      "   macro avg       0.94      0.99      0.96      3699\n",
      "weighted avg       0.98      0.98      0.98      3699\n",
      "\n",
      "Confusion matrix:\n",
      " [[3068   71]\n",
      " [   4  556]]\n"
     ]
    },
    {
     "data": {
      "text/plain": [
       "Text(0, 0.5, 'Expected')"
      ]
     },
     "execution_count": 33,
     "metadata": {},
     "output_type": "execute_result"
    },
    {
     "data": {
      "image/png": "[encoded data removed]",
      "text/plain": [
       "<Figure size 432x288 with 2 Axes>"
      ]
     },
     "metadata": {
      "needs_background": "light"
     },
     "output_type": "display_data"
    }
   ],
   "source": [
    "rf_over = RandomForestClassifier(n_estimators=1000)\n",
    "rf_over.fit(X_train3, y_train3)\n",
    "predTree_over = rf_over.predict(X_test)\n",
    "print(classification_report(y_test,predTree_over))\n",
    "conf_mat = confusion_matrix(y_true=y_test, y_pred=predTree_over)\n",
    "print('Confusion matrix:\\n', conf_mat)\n",
    "labels = ['Class 0', 'Class 1']\n",
    "fig = plt.figure()\n",
    "ax = fig.add_subplot(111)\n",
    "cax = ax.matshow(conf_mat, cmap=plt.cm.Blues)\n",
    "fig.colorbar(cax)\n",
    "ax.set_xticklabels([''] + labels)\n",
    "ax.set_yticklabels([''] + labels)\n",
    "plt.xlabel('Predicted')\n",
    "plt.ylabel('Expected')"
   ]
  },
  {
   "cell_type": "markdown",
   "metadata": {},
   "source": [
    "**限制樹的深度以避免 overfitting**"
   ]
  },
  {
   "cell_type": "code",
   "execution_count": 35,
   "metadata": {},
   "outputs": [
    {
     "name": "stdout",
     "output_type": "stream",
     "text": [
      "              precision    recall  f1-score   support\n",
      "\n",
      "           0       0.98      0.89      0.93      3139\n",
      "           1       0.60      0.88      0.71       560\n",
      "\n",
      "   micro avg       0.89      0.89      0.89      3699\n",
      "   macro avg       0.79      0.89      0.82      3699\n",
      "weighted avg       0.92      0.89      0.90      3699\n",
      "\n",
      "Confusion matrix:\n",
      " [[2807  332]\n",
      " [  65  495]]\n"
     ]
    },
    {
     "data": {
      "text/plain": [
       "Text(0, 0.5, 'Expected')"
      ]
     },
     "execution_count": 35,
     "metadata": {},
     "output_type": "execute_result"
    },
    {
     "data": {
      "image/png": "[encoded data removed]",
      "text/plain": [
       "<Figure size 432x288 with 2 Axes>"
      ]
     },
     "metadata": {
      "needs_background": "light"
     },
     "output_type": "display_data"
    }
   ],
   "source": [
    "rf_over = RandomForestClassifier(n_estimators=1000, max_depth=8)\n",
    "rf_over.fit(X_train3, y_train3)\n",
    "predTree_over = rf_over.predict(X_test)\n",
    "print(classification_report(y_test,predTree_over))\n",
    "conf_mat = confusion_matrix(y_true=y_test, y_pred=predTree_over)\n",
    "print('Confusion matrix:\\n', conf_mat)\n",
    "labels = ['Class 0', 'Class 1']\n",
    "fig = plt.figure()\n",
    "ax = fig.add_subplot(111)\n",
    "cax = ax.matshow(conf_mat, cmap=plt.cm.Blues)\n",
    "fig.colorbar(cax)\n",
    "ax.set_xticklabels([''] + labels)\n",
    "ax.set_yticklabels([''] + labels)\n",
    "plt.xlabel('Predicted')\n",
    "plt.ylabel('Expected')"
   ]
  },
  {
   "cell_type": "markdown",
   "metadata": {},
   "source": [
    "## over-sampling 小結\n",
    "- 我目前的做法是**先複製資料然後再分割**成 training 和 testing ，而這樣做的結果照理來說要比較好，因為會有很多 testing data 在 train 的時候是有看過的   \n",
    "\n",
    "\n",
    "- logistic regression 在這方面卻沒有進步我覺得是因為一開始他也是用線性的方式對資料做線性 regression 因此重複的資料並不會對這方面造成顯著的影響   \n",
    "\n",
    "\n",
    "- random forest 在這方面的表現就超級好，我覺得也不意外，畢竟決策樹如果看過很多相同的資料，很有可能 overfitting，所以我認為如果我是先做資料切割然後再複製應該結果就會跟 baseline 做出來的差不多，或是更差，為了驗證我創了另外的 model 限制樹的深度，的確結果就不怎麼樣\n",
    "\n",
    "## over-sampling part II\n",
    "- 先切割 test & train 再複製 data"
   ]
  },
  {
   "cell_type": "code",
   "execution_count": 43,
   "metadata": {},
   "outputs": [
    {
     "name": "stdout",
     "output_type": "stream",
     "text": [
      "Class 0: 7283\n",
      "Class 1: 7283\n"
     ]
    },
    {
     "data": {
      "image/png": "[encoded data removed]",
      "text/plain": [
       "<Figure size 432x288 with 1 Axes>"
      ]
     },
     "metadata": {
      "needs_background": "light"
     },
     "output_type": "display_data"
    }
   ],
   "source": [
    "train = pd.merge(X_train, y_train, left_index=True, right_index=True)\n",
    "class_0, class_1 = train['Revenue'].value_counts()\n",
    "train_class_0 = train[train['Revenue'] == 0]\n",
    "train_class_1 = train[train['Revenue'] == 1]\n",
    "train_class_1_over = train_class_1.sample(class_0, replace=True)\n",
    "train_test_over = pd.concat([train_class_0, train_class_1_over], axis=0)\n",
    "sns.countplot(x='Revenue', data=train_test_over)\n",
    "print('Class 0:', len(train_test_over[train_test_over['Revenue'] == 0]))\n",
    "print('Class 1:', len(train_test_over[train_test_over['Revenue'] == 1]))"
   ]
  },
  {
   "cell_type": "code",
   "execution_count": 44,
   "metadata": {},
   "outputs": [],
   "source": [
    "X_train_new = train_test_over.drop(['Revenue'],axis=1)\n",
    "y_train_new = train_test_over['Revenue']"
   ]
  },
  {
   "cell_type": "markdown",
   "metadata": {},
   "source": [
    "- logistic regression"
   ]
  },
  {
   "cell_type": "code",
   "execution_count": 46,
   "metadata": {},
   "outputs": [
    {
     "name": "stdout",
     "output_type": "stream",
     "text": [
      "              precision    recall  f1-score   support\n",
      "\n",
      "           0       0.95      0.90      0.92      3139\n",
      "           1       0.57      0.72      0.63       560\n",
      "\n",
      "   micro avg       0.87      0.87      0.87      3699\n",
      "   macro avg       0.76      0.81      0.78      3699\n",
      "weighted avg       0.89      0.87      0.88      3699\n",
      "\n",
      "Confusion matrix:\n",
      " [[2831  308]\n",
      " [ 157  403]]\n"
     ]
    },
    {
     "data": {
      "text/plain": [
       "Text(0, 0.5, 'Expected')"
      ]
     },
     "execution_count": 46,
     "metadata": {},
     "output_type": "execute_result"
    },
    {
     "data": {
      "image/png": "[encoded data removed]",
      "text/plain": [
       "<Figure size 432x288 with 2 Axes>"
      ]
     },
     "metadata": {
      "needs_background": "light"
     },
     "output_type": "display_data"
    }
   ],
   "source": [
    "log_new = LogisticRegression()\n",
    "log_new.fit(X_train_new,y_train_new)\n",
    "pred_new = log_new.predict(X_test)\n",
    "print(classification_report(y_test,pred_new))\n",
    "conf_mat = confusion_matrix(y_true=y_test, y_pred=pred_new)\n",
    "print('Confusion matrix:\\n', conf_mat)\n",
    "\n",
    "labels = ['Class 0', 'Class 1']\n",
    "fig = plt.figure()\n",
    "ax = fig.add_subplot(111)\n",
    "cax = ax.matshow(conf_mat, cmap=plt.cm.Blues)\n",
    "fig.colorbar(cax)\n",
    "ax.set_xticklabels([''] + labels)\n",
    "ax.set_yticklabels([''] + labels)\n",
    "plt.xlabel('Predicted')\n",
    "plt.ylabel('Expected')"
   ]
  },
  {
   "cell_type": "markdown",
   "metadata": {},
   "source": [
    "- random forest"
   ]
  },
  {
   "cell_type": "code",
   "execution_count": 45,
   "metadata": {},
   "outputs": [
    {
     "name": "stdout",
     "output_type": "stream",
     "text": [
      "              precision    recall  f1-score   support\n",
      "\n",
      "           0       0.94      0.94      0.94      3139\n",
      "           1       0.66      0.64      0.65       560\n",
      "\n",
      "   micro avg       0.90      0.90      0.90      3699\n",
      "   macro avg       0.80      0.79      0.79      3699\n",
      "weighted avg       0.89      0.90      0.89      3699\n",
      "\n",
      "Confusion matrix:\n",
      " [[2956  183]\n",
      " [ 203  357]]\n"
     ]
    },
    {
     "data": {
      "text/plain": [
       "Text(0, 0.5, 'Expected')"
      ]
     },
     "execution_count": 45,
     "metadata": {},
     "output_type": "execute_result"
    },
    {
     "data": {
      "image/png": "[encoded data removed]",
      "text/plain": [
       "<Figure size 432x288 with 2 Axes>"
      ]
     },
     "metadata": {
      "needs_background": "light"
     },
     "output_type": "display_data"
    }
   ],
   "source": [
    "rf_over = RandomForestClassifier(n_estimators=1000)\n",
    "rf_over.fit(X_train_new, y_train_new)\n",
    "predTree_new = rf_over.predict(X_test)\n",
    "print(classification_report(y_test,predTree_new))\n",
    "conf_mat = confusion_matrix(y_true=y_test, y_pred=predTree_new)\n",
    "print('Confusion matrix:\\n', conf_mat)\n",
    "labels = ['Class 0', 'Class 1']\n",
    "fig = plt.figure()\n",
    "ax = fig.add_subplot(111)\n",
    "cax = ax.matshow(conf_mat, cmap=plt.cm.Blues)\n",
    "fig.colorbar(cax)\n",
    "ax.set_xticklabels([''] + labels)\n",
    "ax.set_yticklabels([''] + labels)\n",
    "plt.xlabel('Predicted')\n",
    "plt.ylabel('Expected')"
   ]
  },
  {
   "cell_type": "markdown",
   "metadata": {},
   "source": [
    "## over-sampling 總結\n",
    "- 結果還是不怎麼樣，可見資料的豐富程度還是很重要的"
   ]
  },
  {
   "cell_type": "markdown",
   "metadata": {},
   "source": [
    "## model ensemble\n",
    "\n",
    "- 現在回頭看看發現在 random forest 方面還是一開始做的 baseline model 表現得最好，於是我決定把它當作參考依據之一   \n",
    "\n",
    "\n",
    "- logistic regression 方面都差不多所以我決定繼續用 baseline model 來當依據\n",
    "\n",
    "\n",
    "- 還需要另一個 model ，我決定使用 xgboost classifier\n"
   ]
  },
  {
   "cell_type": "code",
   "execution_count": 48,
   "metadata": {},
   "outputs": [],
   "source": [
    "from xgboost import XGBClassifier"
   ]
  },
  {
   "cell_type": "code",
   "execution_count": 49,
   "metadata": {},
   "outputs": [
    {
     "name": "stdout",
     "output_type": "stream",
     "text": [
      "              precision    recall  f1-score   support\n",
      "\n",
      "           0       0.93      0.96      0.94      3139\n",
      "           1       0.71      0.58      0.64       560\n",
      "\n",
      "   micro avg       0.90      0.90      0.90      3699\n",
      "   macro avg       0.82      0.77      0.79      3699\n",
      "weighted avg       0.89      0.90      0.90      3699\n",
      "\n",
      "Confusion matrix:\n",
      " [[3005  134]\n",
      " [ 235  325]]\n"
     ]
    },
    {
     "data": {
      "text/plain": [
       "Text(0, 0.5, 'Expected')"
      ]
     },
     "execution_count": 49,
     "metadata": {},
     "output_type": "execute_result"
    },
    {
     "data": {
      "image/png": "[encoded data removed]",
      "text/plain": [
       "<Figure size 432x288 with 2 Axes>"
      ]
     },
     "metadata": {
      "needs_background": "light"
     },
     "output_type": "display_data"
    }
   ],
   "source": [
    "xgb = XGBClassifier(n_estimators=1000)\n",
    "xgb.fit(X_train, y_train)\n",
    "preds = xgb.predict(X_test)\n",
    "print(classification_report(y_test,preds))\n",
    "conf_mat = confusion_matrix(y_true=y_test, y_pred=preds)\n",
    "print('Confusion matrix:\\n', conf_mat)\n",
    "\n",
    "labels = ['Class 0', 'Class 1']\n",
    "fig = plt.figure()\n",
    "ax = fig.add_subplot(111)\n",
    "cax = ax.matshow(conf_mat, cmap=plt.cm.Blues)\n",
    "fig.colorbar(cax)\n",
    "ax.set_xticklabels([''] + labels)\n",
    "ax.set_yticklabels([''] + labels)\n",
    "plt.xlabel('Predicted')\n",
    "plt.ylabel('Expected')"
   ]
  },
  {
   "cell_type": "code",
   "execution_count": 84,
   "metadata": {},
   "outputs": [],
   "source": [
    "result = []\n",
    "for i in range(len(predictions)):\n",
    "    vote = predictions[i] + predTree[i] + preds[i]\n",
    "    if vote == 0:\n",
    "        vote = 0\n",
    "    elif vote == 1:\n",
    "        vote = 0\n",
    "    elif vote == 2:\n",
    "        vote = 1\n",
    "    elif vote == 3:\n",
    "        vote = 1\n",
    "    result.append(vote)"
   ]
  },
  {
   "cell_type": "markdown",
   "metadata": {},
   "source": [
    "## 看一下 3 個 model ensemble 的結果如何\n",
    "- 結果還是沒有突破 QQ "
   ]
  },
  {
   "cell_type": "code",
   "execution_count": 85,
   "metadata": {},
   "outputs": [
    {
     "name": "stdout",
     "output_type": "stream",
     "text": [
      "              precision    recall  f1-score   support\n",
      "\n",
      "           0       0.93      0.95      0.94      3139\n",
      "           1       0.70      0.61      0.65       560\n",
      "\n",
      "   micro avg       0.90      0.90      0.90      3699\n",
      "   macro avg       0.82      0.78      0.80      3699\n",
      "weighted avg       0.90      0.90      0.90      3699\n",
      "\n",
      "Confusion matrix:\n",
      " [[2993  146]\n",
      " [ 218  342]]\n"
     ]
    },
    {
     "data": {
      "text/plain": [
       "Text(0, 0.5, 'Expected')"
      ]
     },
     "execution_count": 85,
     "metadata": {},
     "output_type": "execute_result"
    },
    {
     "data": {
      "image/png": "[encoded data removed]",
      "text/plain": [
       "<Figure size 432x288 with 2 Axes>"
      ]
     },
     "metadata": {
      "needs_background": "light"
     },
     "output_type": "display_data"
    }
   ],
   "source": [
    "print(classification_report(y_test,result))\n",
    "conf_mat = confusion_matrix(y_true=y_test, y_pred=result)\n",
    "print('Confusion matrix:\\n', conf_mat)\n",
    "\n",
    "labels = ['Class 0', 'Class 1']\n",
    "fig = plt.figure()\n",
    "ax = fig.add_subplot(111)\n",
    "cax = ax.matshow(conf_mat, cmap=plt.cm.Blues)\n",
    "fig.colorbar(cax)\n",
    "ax.set_xticklabels([''] + labels)\n",
    "ax.set_yticklabels([''] + labels)\n",
    "plt.xlabel('Predicted')\n",
    "plt.ylabel('Expected')"
   ]
  },
  {
   "cell_type": "markdown",
   "metadata": {},
   "source": [
    "## 如果 3 個不行那你有試過 4 個嗎\n",
    "- 一氣之下直接在弄一個 SVM 出來"
   ]
  },
  {
   "cell_type": "code",
   "execution_count": 58,
   "metadata": {},
   "outputs": [
    {
     "data": {
      "text/plain": [
       "SVC(C=1.0, cache_size=200, class_weight=None, coef0=0.0,\n",
       "  decision_function_shape='ovr', degree=3, gamma='auto_deprecated',\n",
       "  kernel='rbf', max_iter=-1, probability=False, random_state=None,\n",
       "  shrinking=True, tol=0.001, verbose=False)"
      ]
     },
     "execution_count": 58,
     "metadata": {},
     "output_type": "execute_result"
    }
   ],
   "source": [
    "from sklearn.svm import SVC\n",
    "model = SVC()\n",
    "model.fit(X_train,y_train)"
   ]
  },
  {
   "cell_type": "code",
   "execution_count": 59,
   "metadata": {},
   "outputs": [],
   "source": [
    "pred_svm = model.predict(X_test)"
   ]
  },
  {
   "cell_type": "code",
   "execution_count": 60,
   "metadata": {},
   "outputs": [
    {
     "name": "stdout",
     "output_type": "stream",
     "text": [
      "              precision    recall  f1-score   support\n",
      "\n",
      "           0       0.85      1.00      0.92      3139\n",
      "           1       0.00      0.00      0.00       560\n",
      "\n",
      "   micro avg       0.85      0.85      0.85      3699\n",
      "   macro avg       0.42      0.50      0.46      3699\n",
      "weighted avg       0.72      0.85      0.78      3699\n",
      "\n",
      "Confusion matrix:\n",
      " [[3139    0]\n",
      " [ 560    0]]\n"
     ]
    },
    {
     "data": {
      "text/plain": [
       "Text(0, 0.5, 'Expected')"
      ]
     },
     "execution_count": 60,
     "metadata": {},
     "output_type": "execute_result"
    },
    {
     "data": {
      "image/png": "[encoded data removed]",
      "text/plain": [
       "<Figure size 432x288 with 2 Axes>"
      ]
     },
     "metadata": {
      "needs_background": "light"
     },
     "output_type": "display_data"
    }
   ],
   "source": [
    "print(classification_report(y_test,pred_svm))\n",
    "conf_mat = confusion_matrix(y_true=y_test, y_pred=pred_svm)\n",
    "print('Confusion matrix:\\n', conf_mat)\n",
    "\n",
    "labels = ['Class 0', 'Class 1']\n",
    "fig = plt.figure()\n",
    "ax = fig.add_subplot(111)\n",
    "cax = ax.matshow(conf_mat, cmap=plt.cm.Blues)\n",
    "fig.colorbar(cax)\n",
    "ax.set_xticklabels([''] + labels)\n",
    "ax.set_yticklabels([''] + labels)\n",
    "plt.xlabel('Predicted')\n",
    "plt.ylabel('Expected')"
   ]
  },
  {
   "cell_type": "code",
   "execution_count": 69,
   "metadata": {},
   "outputs": [],
   "source": [
    "param_grid = {'C': [0.3,1, 3, 9, 27], 'gamma': [1,0.1,0.01,0.001,0.0001], 'kernel': ['rbf']} "
   ]
  },
  {
   "cell_type": "code",
   "execution_count": 62,
   "metadata": {},
   "outputs": [],
   "source": [
    "from sklearn.model_selection import GridSearchCV"
   ]
  },
  {
   "cell_type": "code",
   "execution_count": 70,
   "metadata": {},
   "outputs": [],
   "source": [
    "grid = GridSearchCV(SVC(),param_grid,refit=True,verbose=3)"
   ]
  },
  {
   "cell_type": "code",
   "execution_count": 71,
   "metadata": {},
   "outputs": [
    {
     "name": "stdout",
     "output_type": "stream",
     "text": [
      "Fitting 3 folds for each of 25 candidates, totalling 75 fits\n",
      "[CV] C=0.3, gamma=1, kernel=rbf ......................................\n"
     ]
    },
    {
     "name": "stderr",
     "output_type": "stream",
     "text": [
      "[Parallel(n_jobs=1)]: Using backend SequentialBackend with 1 concurrent workers.\n"
     ]
    },
    {
     "name": "stdout",
     "output_type": "stream",
     "text": [
      "[CV]  C=0.3, gamma=1, kernel=rbf, score=0.8436414176511466, total=   1.1s\n",
      "[CV] C=0.3, gamma=1, kernel=rbf ......................................\n"
     ]
    },
    {
     "name": "stderr",
     "output_type": "stream",
     "text": [
      "[Parallel(n_jobs=1)]: Done   1 out of   1 | elapsed:    1.7s remaining:    0.0s\n"
     ]
    },
    {
     "name": "stdout",
     "output_type": "stream",
     "text": [
      "[CV]  C=0.3, gamma=1, kernel=rbf, score=0.8439346541536322, total=   1.1s\n",
      "[CV] C=0.3, gamma=1, kernel=rbf ......................................\n"
     ]
    },
    {
     "name": "stderr",
     "output_type": "stream",
     "text": [
      "[Parallel(n_jobs=1)]: Done   2 out of   2 | elapsed:    3.3s remaining:    0.0s\n"
     ]
    },
    {
     "name": "stdout",
     "output_type": "stream",
     "text": [
      "[CV]  C=0.3, gamma=1, kernel=rbf, score=0.8438803894297635, total=   1.2s\n",
      "[CV] C=0.3, gamma=0.1, kernel=rbf ....................................\n",
      "[CV]  C=0.3, gamma=0.1, kernel=rbf, score=0.8436414176511466, total=   1.3s\n",
      "[CV] C=0.3, gamma=0.1, kernel=rbf ....................................\n",
      "[CV]  C=0.3, gamma=0.1, kernel=rbf, score=0.8439346541536322, total=   1.2s\n",
      "[CV] C=0.3, gamma=0.1, kernel=rbf ....................................\n",
      "[CV]  C=0.3, gamma=0.1, kernel=rbf, score=0.8438803894297635, total=   1.2s\n",
      "[CV] C=0.3, gamma=0.01, kernel=rbf ...................................\n",
      "[CV]  C=0.3, gamma=0.01, kernel=rbf, score=0.8436414176511466, total=   1.3s\n",
      "[CV] C=0.3, gamma=0.01, kernel=rbf ...................................\n",
      "[CV]  C=0.3, gamma=0.01, kernel=rbf, score=0.8439346541536322, total=   1.3s\n",
      "[CV] C=0.3, gamma=0.01, kernel=rbf ...................................\n",
      "[CV]  C=0.3, gamma=0.01, kernel=rbf, score=0.8438803894297635, total=   1.3s\n",
      "[CV] C=0.3, gamma=0.001, kernel=rbf ..................................\n",
      "[CV]  C=0.3, gamma=0.001, kernel=rbf, score=0.8471160528144545, total=   1.1s\n",
      "[CV] C=0.3, gamma=0.001, kernel=rbf ..................................\n",
      "[CV]  C=0.3, gamma=0.001, kernel=rbf, score=0.8484532499131039, total=   1.0s\n",
      "[CV] C=0.3, gamma=0.001, kernel=rbf ..................................\n",
      "[CV]  C=0.3, gamma=0.001, kernel=rbf, score=0.8501390820584145, total=   1.1s\n",
      "[CV] C=0.3, gamma=0.0001, kernel=rbf .................................\n",
      "[CV]  C=0.3, gamma=0.0001, kernel=rbf, score=0.8683113273106324, total=   0.8s\n",
      "[CV] C=0.3, gamma=0.0001, kernel=rbf .................................\n",
      "[CV]  C=0.3, gamma=0.0001, kernel=rbf, score=0.8651372957942302, total=   0.8s\n",
      "[CV] C=0.3, gamma=0.0001, kernel=rbf .................................\n",
      "[CV]  C=0.3, gamma=0.0001, kernel=rbf, score=0.8626564673157163, total=   0.8s\n",
      "[CV] C=1, gamma=1, kernel=rbf ........................................\n",
      "[CV]  C=1, gamma=1, kernel=rbf, score=0.8436414176511466, total=   1.2s\n",
      "[CV] C=1, gamma=1, kernel=rbf ........................................\n",
      "[CV]  C=1, gamma=1, kernel=rbf, score=0.8439346541536322, total=   1.2s\n",
      "[CV] C=1, gamma=1, kernel=rbf ........................................\n",
      "[CV]  C=1, gamma=1, kernel=rbf, score=0.8438803894297635, total=   1.1s\n",
      "[CV] C=1, gamma=0.1, kernel=rbf ......................................\n",
      "[CV]  C=1, gamma=0.1, kernel=rbf, score=0.8436414176511466, total=   1.4s\n",
      "[CV] C=1, gamma=0.1, kernel=rbf ......................................\n",
      "[CV]  C=1, gamma=0.1, kernel=rbf, score=0.8439346541536322, total=   1.3s\n",
      "[CV] C=1, gamma=0.1, kernel=rbf ......................................\n",
      "[CV]  C=1, gamma=0.1, kernel=rbf, score=0.8438803894297635, total=   1.3s\n",
      "[CV] C=1, gamma=0.01, kernel=rbf .....................................\n",
      "[CV]  C=1, gamma=0.01, kernel=rbf, score=0.8432939541348159, total=   1.4s\n",
      "[CV] C=1, gamma=0.01, kernel=rbf .....................................\n",
      "[CV]  C=1, gamma=0.01, kernel=rbf, score=0.8446298227320125, total=   1.5s\n",
      "[CV] C=1, gamma=0.01, kernel=rbf .....................................\n",
      "[CV]  C=1, gamma=0.01, kernel=rbf, score=0.8442280945757997, total=   1.4s\n",
      "[CV] C=1, gamma=0.001, kernel=rbf ....................................\n",
      "[CV]  C=1, gamma=0.001, kernel=rbf, score=0.859277275886032, total=   1.2s\n",
      "[CV] C=1, gamma=0.001, kernel=rbf ....................................\n",
      "[CV]  C=1, gamma=0.001, kernel=rbf, score=0.8585331942996176, total=   1.1s\n",
      "[CV] C=1, gamma=0.001, kernel=rbf ....................................\n",
      "[CV]  C=1, gamma=0.001, kernel=rbf, score=0.8609179415855355, total=   1.2s\n",
      "[CV] C=1, gamma=0.0001, kernel=rbf ...................................\n",
      "[CV]  C=1, gamma=0.0001, kernel=rbf, score=0.8794301598332175, total=   0.9s\n",
      "[CV] C=1, gamma=0.0001, kernel=rbf ...................................\n",
      "[CV]  C=1, gamma=0.0001, kernel=rbf, score=0.8734793187347932, total=   0.9s\n",
      "[CV] C=1, gamma=0.0001, kernel=rbf ...................................\n",
      "[CV]  C=1, gamma=0.0001, kernel=rbf, score=0.8720445062586927, total=   0.9s\n",
      "[CV] C=3, gamma=1, kernel=rbf ........................................\n",
      "[CV]  C=3, gamma=1, kernel=rbf, score=0.8436414176511466, total=   1.4s\n",
      "[CV] C=3, gamma=1, kernel=rbf ........................................\n",
      "[CV]  C=3, gamma=1, kernel=rbf, score=0.8439346541536322, total=   1.4s\n",
      "[CV] C=3, gamma=1, kernel=rbf ........................................\n",
      "[CV]  C=3, gamma=1, kernel=rbf, score=0.8438803894297635, total=   1.4s\n",
      "[CV] C=3, gamma=0.1, kernel=rbf ......................................\n",
      "[CV]  C=3, gamma=0.1, kernel=rbf, score=0.842946490618485, total=   1.4s\n",
      "[CV] C=3, gamma=0.1, kernel=rbf ......................................\n",
      "[CV]  C=3, gamma=0.1, kernel=rbf, score=0.8435870698644421, total=   1.4s\n",
      "[CV] C=3, gamma=0.1, kernel=rbf ......................................\n",
      "[CV]  C=3, gamma=0.1, kernel=rbf, score=0.8435326842837274, total=   1.4s\n",
      "[CV] C=3, gamma=0.01, kernel=rbf .....................................\n",
      "[CV]  C=3, gamma=0.01, kernel=rbf, score=0.8412091730368312, total=   1.8s\n",
      "[CV] C=3, gamma=0.01, kernel=rbf .....................................\n",
      "[CV]  C=3, gamma=0.01, kernel=rbf, score=0.8404588112617309, total=   1.5s\n",
      "[CV] C=3, gamma=0.01, kernel=rbf .....................................\n",
      "[CV]  C=3, gamma=0.01, kernel=rbf, score=0.8438803894297635, total=   1.5s\n",
      "[CV] C=3, gamma=0.001, kernel=rbf ....................................\n",
      "[CV]  C=3, gamma=0.001, kernel=rbf, score=0.854412786657401, total=   1.1s\n",
      "[CV] C=3, gamma=0.001, kernel=rbf ....................................\n",
      "[CV]  C=3, gamma=0.001, kernel=rbf, score=0.8550573514077163, total=   1.1s\n",
      "[CV] C=3, gamma=0.001, kernel=rbf ....................................\n",
      "[CV]  C=3, gamma=0.001, kernel=rbf, score=0.8588317107093185, total=   1.2s\n",
      "[CV] C=3, gamma=0.0001, kernel=rbf ...................................\n",
      "[CV]  C=3, gamma=0.0001, kernel=rbf, score=0.8783877692842251, total=   1.0s\n",
      "[CV] C=3, gamma=0.0001, kernel=rbf ...................................\n",
      "[CV]  C=3, gamma=0.0001, kernel=rbf, score=0.8637469586374696, total=   0.9s\n",
      "[CV] C=3, gamma=0.0001, kernel=rbf ...................................\n",
      "[CV]  C=3, gamma=0.0001, kernel=rbf, score=0.8710013908205841, total=   1.0s\n",
      "[CV] C=9, gamma=1, kernel=rbf ........................................\n",
      "[CV]  C=9, gamma=1, kernel=rbf, score=0.8436414176511466, total=   1.4s\n",
      "[CV] C=9, gamma=1, kernel=rbf ........................................\n",
      "[CV]  C=9, gamma=1, kernel=rbf, score=0.8439346541536322, total=   1.4s\n",
      "[CV] C=9, gamma=1, kernel=rbf ........................................\n",
      "[CV]  C=9, gamma=1, kernel=rbf, score=0.8438803894297635, total=   1.4s\n",
      "[CV] C=9, gamma=0.1, kernel=rbf ......................................\n",
      "[CV]  C=9, gamma=0.1, kernel=rbf, score=0.842946490618485, total=   1.4s\n",
      "[CV] C=9, gamma=0.1, kernel=rbf ......................................\n",
      "[CV]  C=9, gamma=0.1, kernel=rbf, score=0.843239485575252, total=   1.4s\n",
      "[CV] C=9, gamma=0.1, kernel=rbf ......................................\n",
      "[CV]  C=9, gamma=0.1, kernel=rbf, score=0.8435326842837274, total=   1.4s\n",
      "[CV] C=9, gamma=0.01, kernel=rbf .....................................\n",
      "[CV]  C=9, gamma=0.01, kernel=rbf, score=0.8394718554551772, total=   1.6s\n",
      "[CV] C=9, gamma=0.01, kernel=rbf .....................................\n",
      "[CV]  C=9, gamma=0.01, kernel=rbf, score=0.8390684741049704, total=   1.4s\n",
      "[CV] C=9, gamma=0.01, kernel=rbf .....................................\n",
      "[CV]  C=9, gamma=0.01, kernel=rbf, score=0.8404033379694019, total=   1.5s\n",
      "[CV] C=9, gamma=0.001, kernel=rbf ....................................\n",
      "[CV]  C=9, gamma=0.001, kernel=rbf, score=0.8467685892981237, total=   1.6s\n",
      "[CV] C=9, gamma=0.001, kernel=rbf ....................................\n",
      "[CV]  C=9, gamma=0.001, kernel=rbf, score=0.8533194299617657, total=   1.2s\n",
      "[CV] C=9, gamma=0.001, kernel=rbf ....................................\n",
      "[CV]  C=9, gamma=0.001, kernel=rbf, score=0.85778859527121, total=   1.2s\n",
      "[CV] C=9, gamma=0.0001, kernel=rbf ...................................\n",
      "[CV]  C=9, gamma=0.0001, kernel=rbf, score=0.8700486448922863, total=   1.1s\n",
      "[CV] C=9, gamma=0.0001, kernel=rbf ...................................\n",
      "[CV]  C=9, gamma=0.0001, kernel=rbf, score=0.862356621480709, total=   1.0s\n",
      "[CV] C=9, gamma=0.0001, kernel=rbf ...................................\n"
     ]
    },
    {
     "name": "stdout",
     "output_type": "stream",
     "text": [
      "[CV]  C=9, gamma=0.0001, kernel=rbf, score=0.8612656467315716, total=   1.1s\n",
      "[CV] C=27, gamma=1, kernel=rbf .......................................\n",
      "[CV]  C=27, gamma=1, kernel=rbf, score=0.8436414176511466, total=   1.5s\n",
      "[CV] C=27, gamma=1, kernel=rbf .......................................\n",
      "[CV]  C=27, gamma=1, kernel=rbf, score=0.8439346541536322, total=   1.4s\n",
      "[CV] C=27, gamma=1, kernel=rbf .......................................\n",
      "[CV]  C=27, gamma=1, kernel=rbf, score=0.8438803894297635, total=   1.5s\n",
      "[CV] C=27, gamma=0.1, kernel=rbf .....................................\n",
      "[CV]  C=27, gamma=0.1, kernel=rbf, score=0.842946490618485, total=   1.4s\n",
      "[CV] C=27, gamma=0.1, kernel=rbf .....................................\n",
      "[CV]  C=27, gamma=0.1, kernel=rbf, score=0.843239485575252, total=   1.4s\n",
      "[CV] C=27, gamma=0.1, kernel=rbf .....................................\n",
      "[CV]  C=27, gamma=0.1, kernel=rbf, score=0.8435326842837274, total=   1.5s\n",
      "[CV] C=27, gamma=0.01, kernel=rbf ....................................\n",
      "[CV]  C=27, gamma=0.01, kernel=rbf, score=0.8384294649061849, total=   1.7s\n",
      "[CV] C=27, gamma=0.01, kernel=rbf ....................................\n",
      "[CV]  C=27, gamma=0.01, kernel=rbf, score=0.8373305526590198, total=   1.5s\n",
      "[CV] C=27, gamma=0.01, kernel=rbf ....................................\n",
      "[CV]  C=27, gamma=0.01, kernel=rbf, score=0.8400556328233658, total=   1.5s\n",
      "[CV] C=27, gamma=0.001, kernel=rbf ...................................\n",
      "[CV]  C=27, gamma=0.001, kernel=rbf, score=0.8450312717164697, total=   1.3s\n",
      "[CV] C=27, gamma=0.001, kernel=rbf ...................................\n",
      "[CV]  C=27, gamma=0.001, kernel=rbf, score=0.8481056656239138, total=   1.2s\n",
      "[CV] C=27, gamma=0.001, kernel=rbf ...................................\n",
      "[CV]  C=27, gamma=0.001, kernel=rbf, score=0.8536161335187761, total=   1.2s\n",
      "[CV] C=27, gamma=0.0001, kernel=rbf ..................................\n",
      "[CV]  C=27, gamma=0.0001, kernel=rbf, score=0.8651841556636554, total=   1.3s\n",
      "[CV] C=27, gamma=0.0001, kernel=rbf ..................................\n",
      "[CV]  C=27, gamma=0.0001, kernel=rbf, score=0.8609662843239485, total=   1.3s\n",
      "[CV] C=27, gamma=0.0001, kernel=rbf ..................................\n",
      "[CV]  C=27, gamma=0.0001, kernel=rbf, score=0.8626564673157163, total=   1.4s\n"
     ]
    },
    {
     "name": "stderr",
     "output_type": "stream",
     "text": [
      "[Parallel(n_jobs=1)]: Done  75 out of  75 | elapsed:  2.2min finished\n"
     ]
    },
    {
     "data": {
      "text/plain": [
       "GridSearchCV(cv='warn', error_score='raise-deprecating',\n",
       "       estimator=SVC(C=1.0, cache_size=200, class_weight=None, coef0=0.0,\n",
       "  decision_function_shape='ovr', degree=3, gamma='auto_deprecated',\n",
       "  kernel='rbf', max_iter=-1, probability=False, random_state=None,\n",
       "  shrinking=True, tol=0.001, verbose=False),\n",
       "       fit_params=None, iid='warn', n_jobs=None,\n",
       "       param_grid={'C': [0.3, 1, 3, 9, 27], 'gamma': [1, 0.1, 0.01, 0.001, 0.0001], 'kernel': ['rbf']},\n",
       "       pre_dispatch='2*n_jobs', refit=True, return_train_score='warn',\n",
       "       scoring=None, verbose=3)"
      ]
     },
     "execution_count": 71,
     "metadata": {},
     "output_type": "execute_result"
    }
   ],
   "source": [
    "grid.fit(X_train,y_train)"
   ]
  },
  {
   "cell_type": "code",
   "execution_count": 72,
   "metadata": {},
   "outputs": [
    {
     "data": {
      "text/plain": [
       "{'C': 1, 'gamma': 0.0001, 'kernel': 'rbf'}"
      ]
     },
     "execution_count": 72,
     "metadata": {},
     "output_type": "execute_result"
    }
   ],
   "source": [
    "grid.best_params_"
   ]
  },
  {
   "cell_type": "code",
   "execution_count": 73,
   "metadata": {},
   "outputs": [],
   "source": [
    "grid_predictions = grid.predict(X_test)"
   ]
  },
  {
   "cell_type": "code",
   "execution_count": 74,
   "metadata": {},
   "outputs": [
    {
     "name": "stdout",
     "output_type": "stream",
     "text": [
      "[[3088   51]\n",
      " [ 391  169]]\n"
     ]
    }
   ],
   "source": [
    "print(confusion_matrix(y_test,grid_predictions))"
   ]
  },
  {
   "cell_type": "code",
   "execution_count": 68,
   "metadata": {},
   "outputs": [
    {
     "name": "stdout",
     "output_type": "stream",
     "text": [
      "              precision    recall  f1-score   support\n",
      "\n",
      "           0       0.89      0.98      0.93      3139\n",
      "           1       0.77      0.30      0.43       560\n",
      "\n",
      "   micro avg       0.88      0.88      0.88      3699\n",
      "   macro avg       0.83      0.64      0.68      3699\n",
      "weighted avg       0.87      0.88      0.86      3699\n",
      "\n",
      "Confusion matrix:\n",
      " [[3088   51]\n",
      " [ 391  169]]\n"
     ]
    },
    {
     "data": {
      "text/plain": [
       "Text(0, 0.5, 'Expected')"
      ]
     },
     "execution_count": 68,
     "metadata": {},
     "output_type": "execute_result"
    },
    {
     "data": {
      "image/png": "[encoded data removed]",
      "text/plain": [
       "<Figure size 432x288 with 2 Axes>"
      ]
     },
     "metadata": {
      "needs_background": "light"
     },
     "output_type": "display_data"
    }
   ],
   "source": [
    "print(classification_report(y_test,grid_predictions))\n",
    "conf_mat = confusion_matrix(y_true=y_test, y_pred=grid_predictions)\n",
    "print('Confusion matrix:\\n', conf_mat)\n",
    "\n",
    "labels = ['Class 0', 'Class 1']\n",
    "fig = plt.figure()\n",
    "ax = fig.add_subplot(111)\n",
    "cax = ax.matshow(conf_mat, cmap=plt.cm.Blues)\n",
    "fig.colorbar(cax)\n",
    "ax.set_xticklabels([''] + labels)\n",
    "ax.set_yticklabels([''] + labels)\n",
    "plt.xlabel('Predicted')\n",
    "plt.ylabel('Expected')"
   ]
  },
  {
   "cell_type": "markdown",
   "metadata": {},
   "source": [
    "## 各種 model 整理"
   ]
  },
  {
   "cell_type": "code",
   "execution_count": 79,
   "metadata": {},
   "outputs": [
    {
     "name": "stdout",
     "output_type": "stream",
     "text": [
      "Logistic regression:\n",
      " [[2819  320]\n",
      " [ 156  404]]\n",
      "              precision    recall  f1-score   support\n",
      "\n",
      "           0       0.95      0.90      0.92      3139\n",
      "           1       0.56      0.72      0.63       560\n",
      "\n",
      "   micro avg       0.87      0.87      0.87      3699\n",
      "   macro avg       0.75      0.81      0.78      3699\n",
      "weighted avg       0.89      0.87      0.88      3699\n",
      "\n",
      "Random Forest:\n",
      " [[3019  120]\n",
      " [ 242  318]]\n",
      "              precision    recall  f1-score   support\n",
      "\n",
      "           0       0.93      0.96      0.94      3139\n",
      "           1       0.73      0.57      0.64       560\n",
      "\n",
      "   micro avg       0.90      0.90      0.90      3699\n",
      "   macro avg       0.83      0.76      0.79      3699\n",
      "weighted avg       0.90      0.90      0.90      3699\n",
      "\n",
      "Xgboost classifier:\n",
      " [[3005  134]\n",
      " [ 235  325]]\n",
      "              precision    recall  f1-score   support\n",
      "\n",
      "           0       0.93      0.96      0.94      3139\n",
      "           1       0.71      0.58      0.64       560\n",
      "\n",
      "   micro avg       0.90      0.90      0.90      3699\n",
      "   macro avg       0.82      0.77      0.79      3699\n",
      "weighted avg       0.89      0.90      0.90      3699\n",
      "\n",
      "SVM:\n",
      " [[3088   51]\n",
      " [ 391  169]]\n",
      "              precision    recall  f1-score   support\n",
      "\n",
      "           0       0.89      0.98      0.93      3139\n",
      "           1       0.77      0.30      0.43       560\n",
      "\n",
      "   micro avg       0.88      0.88      0.88      3699\n",
      "   macro avg       0.83      0.64      0.68      3699\n",
      "weighted avg       0.87      0.88      0.86      3699\n",
      "\n"
     ]
    }
   ],
   "source": [
    "print('Logistic regression:\\n',confusion_matrix(y_true=y_test, y_pred=predictions))\n",
    "print(classification_report(y_test,predictions))\n",
    "print('Random Forest:\\n',confusion_matrix(y_true=y_test, y_pred=predTree))\n",
    "print(classification_report(y_test,predTree))\n",
    "print('Xgboost classifier:\\n',confusion_matrix(y_true=y_test, y_pred=preds))\n",
    "print(classification_report(y_test,preds))\n",
    "print('SVM:\\n',confusion_matrix(y_true=y_test, y_pred=grid_predictions))\n",
    "print(classification_report(y_test,grid_predictions))"
   ]
  },
  {
   "cell_type": "code",
   "execution_count": 104,
   "metadata": {},
   "outputs": [],
   "source": [
    "answer = []\n",
    "for i in range(len(predictions)):\n",
    "    dis = predictions[i] + predTree[i] + preds[i] + grid_predictions[i]\n",
    "    if dis == 0:\n",
    "        dis = 0\n",
    "    elif dis == 1:\n",
    "        dis = 0\n",
    "    elif dis == 2:\n",
    "        if grid_predictions[i] == 0:\n",
    "            dis = 1\n",
    "        else:\n",
    "            dis = 0\n",
    "    elif dis == 3:\n",
    "        dis = 1\n",
    "    elif dis == 4:\n",
    "        dis = 1\n",
    "        \n",
    "    answer.append(dis)"
   ]
  },
  {
   "cell_type": "code",
   "execution_count": 97,
   "metadata": {},
   "outputs": [
    {
     "name": "stdout",
     "output_type": "stream",
     "text": [
      "              precision    recall  f1-score   support\n",
      "\n",
      "           0       0.93      0.95      0.94      3139\n",
      "           1       0.70      0.61      0.65       560\n",
      "\n",
      "   micro avg       0.90      0.90      0.90      3699\n",
      "   macro avg       0.82      0.78      0.80      3699\n",
      "weighted avg       0.90      0.90      0.90      3699\n",
      "\n",
      "Confusion matrix:\n",
      " [[2993  146]\n",
      " [ 218  342]]\n"
     ]
    },
    {
     "data": {
      "text/plain": [
       "Text(0, 0.5, 'Expected')"
      ]
     },
     "execution_count": 97,
     "metadata": {},
     "output_type": "execute_result"
    },
    {
     "data": {
      "image/png": "[encoded data removed]",
      "text/plain": [
       "<Figure size 432x288 with 2 Axes>"
      ]
     },
     "metadata": {
      "needs_background": "light"
     },
     "output_type": "display_data"
    }
   ],
   "source": [
    "print(classification_report(y_test,answer))\n",
    "conf_mat = confusion_matrix(y_true=y_test, y_pred=answer)\n",
    "print('Confusion matrix:\\n', conf_mat)\n",
    "\n",
    "labels = ['Class 0', 'Class 1']\n",
    "fig = plt.figure()\n",
    "ax = fig.add_subplot(111)\n",
    "cax = ax.matshow(conf_mat, cmap=plt.cm.Blues)\n",
    "fig.colorbar(cax)\n",
    "ax.set_xticklabels([''] + labels)\n",
    "ax.set_yticklabels([''] + labels)\n",
    "plt.xlabel('Predicted')\n",
    "plt.ylabel('Expected')"
   ]
  },
  {
   "cell_type": "markdown",
   "metadata": {},
   "source": [
    "## 總結：\n",
    "- 有三個 model 的表現差不多，分別是：\n",
    "    - 1. baseline 的 random forest \n",
    "    - 2. 三個 model 組成的 model \n",
    "    - 3. 四個 model 組成的 model\n",
    "    \n",
    "    \n",
    "- under-sampling and over-sampling:\n",
    "    - under-sampling 其實還沒開始做我就覺得效果不會比較好，畢竟資料變少了\n",
    "    - over-sampling 我覺得在影像識別方面可能還可以透過修圖、轉向的方式來新增差異性比較大的同類 data，但這種類型的 data 除了複製以外很難新增同類資料\n",
    "    \n",
    "- ensemble:\n",
    "    - 我覺得之後應該要讓每個 model 用的 training data 不一樣，最快的方式就是丟不同的 column 進去 train"
   ]
  }
 ],
 "metadata": {
  "kernelspec": {
   "display_name": "Python 3",
   "language": "python",
   "name": "python3"
  },
  "language_info": {
   "codemirror_mode": {
    "name": "ipython",
    "version": 3
   },
   "file_extension": ".py",
   "mimetype": "text/x-python",
   "name": "python",
   "nbconvert_exporter": "python",
   "pygments_lexer": "ipython3",
   "version": "3.6.5"
  }
 },
 "nbformat": 4,
 "nbformat_minor": 2
}
